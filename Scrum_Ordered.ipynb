{
  "nbformat": 4,
  "nbformat_minor": 0,
  "metadata": {
    "colab": {
      "provenance": [],
      "toc_visible": true,
      "authorship_tag": "ABX9TyMd3KJfqVjX385uteh+jjRN",
      "include_colab_link": true
    },
    "kernelspec": {
      "name": "python3",
      "display_name": "Python 3"
    },
    "language_info": {
      "name": "python"
    }
  },
  "cells": [
    {
      "cell_type": "markdown",
      "metadata": {
        "id": "view-in-github",
        "colab_type": "text"
      },
      "source": [
        "<a href=\"https://colab.research.google.com/github/scrum2sameshark2/scrum/blob/main/Scrum_Ordered.ipynb\" target=\"_parent\"><img src=\"https://colab.research.google.com/assets/colab-badge.svg\" alt=\"Open In Colab\"/></a>"
      ]
    },
    {
      "cell_type": "markdown",
      "source": [
        "Google Driveと接続するためのおまじない\n",
        "\n",
        "\n",
        "---\n",
        "\n"
      ],
      "metadata": {
        "id": "Sk6zkb5ZPtuU"
      }
    },
    {
      "cell_type": "markdown",
      "source": [
        "# GooleDriveと接続する"
      ],
      "metadata": {
        "id": "ybKPuKMfP8He"
      }
    },
    {
      "cell_type": "code",
      "execution_count": 78,
      "metadata": {
        "id": "wZxD1ivRv7MP",
        "colab": {
          "base_uri": "https://localhost:8080/"
        },
        "outputId": "9ec273ae-2293-4703-fe8c-7dcb714412e4"
      },
      "outputs": [
        {
          "output_type": "stream",
          "name": "stdout",
          "text": [
            "Drive already mounted at /content/drive; to attempt to forcibly remount, call drive.mount(\"/content/drive\", force_remount=True).\n"
          ]
        }
      ],
      "source": [
        "from google.colab import drive\n",
        "drive.mount('/content/drive')\n"
      ]
    },
    {
      "cell_type": "markdown",
      "source": [
        "# CSVファイルのデータおよびグラフ表示"
      ],
      "metadata": {
        "id": "ECbfizPgQG4b"
      }
    },
    {
      "cell_type": "code",
      "source": [
        "import pandas as pd\n",
        "\n",
        "# CSV ファイルを読み込む\n",
        "df = pd.read_csv(\"/content/Scrum Ordered - Order.csv\", nrows=1)  # 最初の1行を読み込む\n",
        "\n",
        "# 1行目のデータを表示\n",
        "print(df)\n"
      ],
      "metadata": {
        "id": "pzc_nOWkHmw-"
      },
      "execution_count": null,
      "outputs": []
    },
    {
      "cell_type": "code",
      "source": [
        "import pandas as pd\n",
        "import matplotlib.pyplot as plt\n",
        "\n",
        "# CSV ファイルを読み込む\n",
        "df = pd.read_csv(\"/content/Scrum Ordered - Order.csv\", parse_dates=[1], header=0)\n",
        "\n",
        "# 日付データ（2列目）を日付型に変換\n",
        "df['Date'] = pd.to_datetime(df.iloc[:, 1])\n",
        "\n",
        "# 年ごとの4月前半のデータを抽出し、金額を合計する\n",
        "april_data = df[(df['Date'].dt.month == 7) ]\n",
        "yearly_april_data = april_data.groupby(df['Date'].dt.year)['明細金額'].sum()  # 'Total'列が金額の列だと仮定\n",
        "\n",
        "# 金額をMillion (JPY) 単位に変換\n",
        "yearly_april_data_million = yearly_april_data / 1e6\n",
        "\n",
        "# 縦棒グラフを描画\n",
        "plt.figure(figsize=(10, 6))\n",
        "yearly_april_data_million.plot(kind='bar')\n",
        "plt.xlabel('Year')\n",
        "plt.ylabel('Total Amount Order (Million JPY)')\n",
        "plt.title('Total Amount for Each Month by Year')\n",
        "plt.xticks(rotation=45)\n",
        "plt.grid(True)\n",
        "plt.show()\n",
        "\n"
      ],
      "metadata": {
        "id": "BruQuJ0RIgxN"
      },
      "execution_count": null,
      "outputs": []
    },
    {
      "cell_type": "markdown",
      "source": [
        "# Google スプレッドシートとの接続"
      ],
      "metadata": {
        "id": "eAJX_Rb7QRsj"
      }
    },
    {
      "cell_type": "code",
      "source": [
        "import gspread\n",
        "from google.auth import default\n",
        "from oauth2client.client import GoogleCredentials\n",
        "import matplotlib.pyplot as plt\n",
        "\n",
        "# Google 認証\n",
        "creds, _ = default()\n",
        "gc = gspread.authorize(creds)\n",
        "\n",
        "# スプレッドシートを開く\n",
        "url = \"https://docs.google.com/spreadsheets/d/1H2UwZ5_ufWsAxoHYvjcQMqq0dU25y6JF5c3vIxyBefE/edit#gid=1442642716\"\n",
        "ss = gc.open_by_url(url)\n",
        "\n",
        "# ワークシートを選択\n",
        "ws = ss.worksheet(\"Order\")\n",
        "\n",
        "# データを取得\n",
        "data = ws.get_all_values()\n",
        "\n",
        "# データをデータフレームに変換\n",
        "df = pd.DataFrame(data[1:], columns=data[0])\n",
        "\n",
        "# 最後の5行の1〜3列を表示\n",
        "print(df.iloc[-5:, :3])"
      ],
      "metadata": {
        "colab": {
          "base_uri": "https://localhost:8080/"
        },
        "id": "CiqA4vc3NQ0s",
        "outputId": "8b08dd5e-20e3-439b-a766-bb0ac8fb8da2"
      },
      "execution_count": 99,
      "outputs": [
        {
          "output_type": "stream",
          "name": "stdout",
          "text": [
            "             受注番号        受注日    得意先コード\n",
            "16036  0044J00171  2024/4/18  71012-18\n",
            "16037  0144J00083  2024/4/23  78014-05\n",
            "16038  0044J00170  2024/4/23  78009-02\n",
            "16039  0144J00084  2024/4/23  75007-11\n",
            "16040  0044J00171  2024/4/23  71012-18\n"
          ]
        }
      ]
    },
    {
      "cell_type": "code",
      "source": [
        "# 最後の5行を取得\n",
        "last_5_rows = df.iloc[-5:, :]\n",
        "\n",
        "# 受注日のデータを取得し、日付型に変換\n",
        "order_dates = pd.to_datetime(last_5_rows['受注日'])\n",
        "\n",
        "# ヒストグラムを作成\n",
        "plt.figure(figsize=(10, 6))\n",
        "order_dates.hist(bins=10, color='skyblue', edgecolor='black')\n",
        "plt.title('Order Date Histogram (Last 5 Rows)')\n",
        "plt.xlabel('Order Date')\n",
        "plt.ylabel('Frequency')\n",
        "plt.xticks(rotation=45)\n",
        "plt.tight_layout()\n",
        "\n",
        "# グラフを表示\n",
        "plt.show()"
      ],
      "metadata": {
        "id": "lwS-j3NaNadT",
        "colab": {
          "base_uri": "https://localhost:8080/",
          "height": 607
        },
        "outputId": "058e0b64-d716-4efe-9ae6-dcbb07152cda"
      },
      "execution_count": 102,
      "outputs": [
        {
          "output_type": "display_data",
          "data": {
            "text/plain": [
              "<Figure size 1000x600 with 1 Axes>"
            ],
            "image/png": "[encoded data removed]"
          },
          "metadata": {}
        }
      ]
    }
  ]
}